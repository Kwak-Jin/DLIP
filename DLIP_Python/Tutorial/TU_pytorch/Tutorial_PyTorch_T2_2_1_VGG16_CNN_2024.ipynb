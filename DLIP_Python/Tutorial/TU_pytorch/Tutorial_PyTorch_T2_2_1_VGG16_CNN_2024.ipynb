{
 "cells": [
  {
   "cell_type": "markdown",
   "metadata": {
    "id": "xRZWfUwWQ1f6"
   },
   "source": [
    "# **DLIP Tutorial - PyTorch**\n",
    "# CIFAR-10 Classification using PyTorch - Part 2\n",
    "Y.-K. Kim\n",
    "(updated 2022. 5. 6) \n",
    "\n",
    "===================\n",
    "\n",
    "The purpose of this tutorial is to learn how to build a simple CNN model for classification of CIFAR-10\n",
    "\n",
    "You must do: **Tutorial_PyTorch_MNIST_MLP**  before this tutorial\n",
    "\n",
    "* Part 1:  Create LeNet5 CNN model and Train/Test with opendataset (CIFAR10)\n",
    "* Part 2-1:  Create a CNN model(VGG-16) \n",
    "* Part 2-2:  Create and Train a CNN model(VGG-16) with opendataset(CIFAR-10)\n",
    "\n",
    "## For CoLab Usage:\n",
    "\n",
    "1. Download this notebook\n",
    "2. Then, open in Colab"
   ]
  },
  {
   "cell_type": "markdown",
   "metadata": {
    "id": "xab0AzXTQ62Y"
   },
   "source": [
    "# Setup Pytorch and Numpy and Device\n"
   ]
  },
  {
   "cell_type": "code",
   "metadata": {
    "id": "a9hU4TNgQzAu",
    "ExecuteTime": {
     "end_time": "2024-05-15T06:27:59.968986Z",
     "start_time": "2024-05-15T06:27:55.999181Z"
    }
   },
   "source": [
    "import torch\n",
    "import torchvision\n",
    "import torchvision.transforms as transforms\n",
    "import numpy as np\n",
    "import torch.nn as nn\n",
    "import torch.nn.functional as F\n",
    "import torch.optim as optim\n",
    "import matplotlib.pyplot as plt"
   ],
   "outputs": [],
   "execution_count": 1
  },
  {
   "cell_type": "code",
   "metadata": {
    "colab": {
     "base_uri": "https://localhost:8080/"
    },
    "id": "fSlpzBkbSWn9",
    "outputId": "d7884142-101b-4d55-877a-513b1d8b4fb1",
    "ExecuteTime": {
     "end_time": "2024-05-15T06:28:00.778617Z",
     "start_time": "2024-05-15T06:28:00.682466Z"
    }
   },
   "source": [
    "# Get cpu or gpu device for training.\n",
    "device = \"cuda\" if torch.cuda.is_available() else \"cpu\"\n",
    "\n",
    "print(f\"Using {device} device\")\n",
    "if torch.cuda.is_available(): print(f'Device name: {torch.cuda.get_device_name(0)}') "
   ],
   "outputs": [
    {
     "name": "stdout",
     "output_type": "stream",
     "text": [
      "Using cuda device\n",
      "Device name: NVIDIA GeForce RTX 4060 Laptop GPU\n"
     ]
    }
   ],
   "execution_count": 2
  },
  {
   "cell_type": "markdown",
   "metadata": {
    "id": "85aC7eEvRD2q"
   },
   "source": [
    "# Prepare Datasets: Input and Output"
   ]
  },
  {
   "cell_type": "markdown",
   "metadata": {
    "id": "AIAX4YhwSzac"
   },
   "source": [
    "In Part 3-1, we will not use dataset for training.  \n"
   ]
  },
  {
   "cell_type": "markdown",
   "metadata": {
    "id": "HS-4blG6Ugc5"
   },
   "source": [
    "# (Exercise) Define model - VGG 16\n",
    "\n",
    "create a class that inherits from nn.Module\n",
    "\n",
    "\n",
    "* Define the layers of the network in  __init__ function\n",
    "* Specify Forward network in the **forward function.**"
   ]
  },
  {
   "cell_type": "markdown",
   "metadata": {
    "id": "IdIlH3E2eRs7"
   },
   "source": [
    "\n",
    "![VGG16.png](https://user-images.githubusercontent.com/23421059/167051297-fc0f379e-bba9-484e-b223-10349d256985.png)\n",
    "\n",
    "#### Architecture detailed \n",
    "![](https://user-images.githubusercontent.com/23421059/167063778-2b1458a8-d7dc-4fc0-acd1-ec0ea51c4a8f.png)"
   ]
  },
  {
   "cell_type": "code",
   "metadata": {
    "id": "yZvql0nMgPkk",
    "ExecuteTime": {
     "end_time": "2024-05-14T06:39:46.027703Z",
     "start_time": "2024-05-14T06:39:45.320585Z"
    }
   },
   "source": [
    "class VGG16(nn.Module):\n",
    "    def __init__(self):\n",
    "        super(VGG16, self).__init__()\n",
    "        self.flatten = nn.Flatten()\n",
    "        \n",
    "        self.conv_layer = nn.Sequential(\n",
    "            nn.Conv2d(3, 64, kernel_size=3, padding=1),   #1 \n",
    "            nn.ReLU(inplace=True),                        \n",
    "            nn.Conv2d(64, 64, kernel_size=3, padding=1),  #1 \n",
    "            nn.ReLU(inplace=True),                        \n",
    "            nn.MaxPool2d(kernel_size=2, stride=2),              \n",
    "            nn.Conv2d(64, 128, kernel_size=3, padding=1), #3\n",
    "            nn.ReLU(inplace=True),                       \n",
    "            nn.Conv2d(128, 128, kernel_size=3, padding=1),#3      \n",
    "            nn.ReLU(inplace=True),                              \n",
    "            nn.MaxPool2d(kernel_size=2, stride=2),       \n",
    "            nn.Conv2d(128, 256, kernel_size=3, padding=1),#5\n",
    "            nn.ReLU(inplace=True),                       \n",
    "            nn.Conv2d(256, 256, kernel_size=3, padding=1),#5 \n",
    "            nn.ReLU(inplace=True),  \n",
    "            nn.MaxPool2d(kernel_size=2, stride=2),       \n",
    "            nn.Conv2d(256, 512,kernel_size=3, padding=1), #7\n",
    "            nn.ReLU(inplace=True),                       \n",
    "            nn.Conv2d(512, 512,kernel_size=3, padding=1), #7\n",
    "            nn.ReLU(inplace=True),                       \n",
    "            nn.Conv2d(512, 512,kernel_size=3, padding=1), #7\n",
    "            nn.ReLU(inplace=True),  \n",
    "            nn.MaxPool2d(kernel_size=2, stride=2),   \n",
    "            nn.Conv2d(512, 512,kernel_size=3, padding=1), #10\n",
    "            nn.ReLU(inplace=True),                       \n",
    "            nn.Conv2d(512, 512,kernel_size=3, padding=1), #10\n",
    "            nn.ReLU(inplace=True),                       \n",
    "            nn.Conv2d(512, 512,kernel_size=3, padding=1), #10\n",
    "            nn.ReLU(inplace=True),  \n",
    "            nn.MaxPool2d(kernel_size=2, stride=2),  \n",
    "        )\n",
    "        self.fc_layer   = nn.Sequential(\n",
    "            nn.Linear(7*7*512, 4096),\n",
    "            nn.ReLU(inplace=True),\n",
    "            nn.Linear(4096, 4096),\n",
    "            nn.ReLU(inplace=True),\n",
    "            nn.Linear(4096, 1000),\n",
    "            nn.ReLU(inplace=True),\n",
    "            nn.Softmax()\n",
    "        )\n",
    "    def forward(self, x):\n",
    "        x = self.conv_layer(x)\n",
    "        x = self.flatten(x)\n",
    "        logit = self.fc_layer(x)\n",
    "        return logit\n",
    "\n",
    "model = VGG16().to(device)\n",
    "print(model)"
   ],
   "outputs": [
    {
     "name": "stdout",
     "output_type": "stream",
     "text": [
      "VGG16(\n",
      "  (flatten): Flatten(start_dim=1, end_dim=-1)\n",
      "  (conv_layer): Sequential(\n",
      "    (0): Conv2d(3, 64, kernel_size=(3, 3), stride=(1, 1), padding=(1, 1))\n",
      "    (1): ReLU(inplace=True)\n",
      "    (2): Conv2d(64, 64, kernel_size=(3, 3), stride=(1, 1), padding=(1, 1))\n",
      "    (3): ReLU(inplace=True)\n",
      "    (4): MaxPool2d(kernel_size=2, stride=2, padding=0, dilation=1, ceil_mode=False)\n",
      "    (5): Conv2d(64, 128, kernel_size=(3, 3), stride=(1, 1), padding=(1, 1))\n",
      "    (6): ReLU(inplace=True)\n",
      "    (7): Conv2d(128, 128, kernel_size=(3, 3), stride=(1, 1), padding=(1, 1))\n",
      "    (8): ReLU(inplace=True)\n",
      "    (9): MaxPool2d(kernel_size=2, stride=2, padding=0, dilation=1, ceil_mode=False)\n",
      "    (10): Conv2d(128, 256, kernel_size=(3, 3), stride=(1, 1), padding=(1, 1))\n",
      "    (11): ReLU(inplace=True)\n",
      "    (12): Conv2d(256, 256, kernel_size=(3, 3), stride=(1, 1), padding=(1, 1))\n",
      "    (13): ReLU(inplace=True)\n",
      "    (14): MaxPool2d(kernel_size=2, stride=2, padding=0, dilation=1, ceil_mode=False)\n",
      "    (15): Conv2d(256, 512, kernel_size=(3, 3), stride=(1, 1), padding=(1, 1))\n",
      "    (16): ReLU(inplace=True)\n",
      "    (17): Conv2d(512, 512, kernel_size=(3, 3), stride=(1, 1), padding=(1, 1))\n",
      "    (18): ReLU(inplace=True)\n",
      "    (19): Conv2d(512, 512, kernel_size=(3, 3), stride=(1, 1), padding=(1, 1))\n",
      "    (20): ReLU(inplace=True)\n",
      "    (21): MaxPool2d(kernel_size=2, stride=2, padding=0, dilation=1, ceil_mode=False)\n",
      "    (22): Conv2d(512, 512, kernel_size=(3, 3), stride=(1, 1), padding=(1, 1))\n",
      "    (23): ReLU(inplace=True)\n",
      "    (24): Conv2d(512, 512, kernel_size=(3, 3), stride=(1, 1), padding=(1, 1))\n",
      "    (25): ReLU(inplace=True)\n",
      "    (26): Conv2d(512, 512, kernel_size=(3, 3), stride=(1, 1), padding=(1, 1))\n",
      "    (27): ReLU(inplace=True)\n",
      "    (28): MaxPool2d(kernel_size=2, stride=2, padding=0, dilation=1, ceil_mode=False)\n",
      "  )\n",
      "  (fc_layer): Sequential(\n",
      "    (0): Linear(in_features=25088, out_features=4096, bias=True)\n",
      "    (1): ReLU(inplace=True)\n",
      "    (2): Linear(in_features=4096, out_features=4096, bias=True)\n",
      "    (3): ReLU(inplace=True)\n",
      "    (4): Linear(in_features=4096, out_features=1000, bias=True)\n",
      "    (5): ReLU(inplace=True)\n",
      "    (6): Softmax(dim=None)\n",
      "  )\n",
      ")\n"
     ]
    }
   ],
   "execution_count": 28
  },
  {
   "cell_type": "markdown",
   "metadata": {
    "id": "7SPvx776gUcj"
   },
   "source": [
    "Check your model is valid by **summary()** function\n"
   ]
  },
  {
   "cell_type": "code",
   "metadata": {
    "id": "KcNiG096gUAz",
    "ExecuteTime": {
     "end_time": "2024-05-14T11:55:58.804855Z",
     "start_time": "2024-05-14T11:55:58.058567Z"
    }
   },
   "source": [
    "from torchsummary import summary\n",
    "summary(model, (3, 224, 224))"
   ],
   "outputs": [
    {
     "name": "stdout",
     "output_type": "stream",
     "text": [
      "----------------------------------------------------------------\n",
      "        Layer (type)               Output Shape         Param #\n",
      "================================================================\n",
      "            Conv2d-1         [-1, 64, 224, 224]           1,792\n",
      "              ReLU-2         [-1, 64, 224, 224]               0\n",
      "            Conv2d-3         [-1, 64, 224, 224]          36,928\n",
      "              ReLU-4         [-1, 64, 224, 224]               0\n",
      "         MaxPool2d-5         [-1, 64, 112, 112]               0\n",
      "            Conv2d-6        [-1, 128, 112, 112]          73,856\n",
      "              ReLU-7        [-1, 128, 112, 112]               0\n",
      "            Conv2d-8        [-1, 128, 112, 112]         147,584\n",
      "              ReLU-9        [-1, 128, 112, 112]               0\n",
      "        MaxPool2d-10          [-1, 128, 56, 56]               0\n",
      "           Conv2d-11          [-1, 256, 56, 56]         295,168\n",
      "             ReLU-12          [-1, 256, 56, 56]               0\n",
      "           Conv2d-13          [-1, 256, 56, 56]         590,080\n",
      "             ReLU-14          [-1, 256, 56, 56]               0\n",
      "        MaxPool2d-15          [-1, 256, 28, 28]               0\n",
      "           Conv2d-16          [-1, 512, 28, 28]       1,180,160\n",
      "             ReLU-17          [-1, 512, 28, 28]               0\n",
      "           Conv2d-18          [-1, 512, 28, 28]       2,359,808\n",
      "             ReLU-19          [-1, 512, 28, 28]               0\n",
      "           Conv2d-20          [-1, 512, 28, 28]       2,359,808\n",
      "             ReLU-21          [-1, 512, 28, 28]               0\n",
      "        MaxPool2d-22          [-1, 512, 14, 14]               0\n",
      "           Conv2d-23          [-1, 512, 14, 14]       2,359,808\n",
      "             ReLU-24          [-1, 512, 14, 14]               0\n",
      "           Conv2d-25          [-1, 512, 14, 14]       2,359,808\n",
      "             ReLU-26          [-1, 512, 14, 14]               0\n",
      "           Conv2d-27          [-1, 512, 14, 14]       2,359,808\n",
      "             ReLU-28          [-1, 512, 14, 14]               0\n",
      "        MaxPool2d-29            [-1, 512, 7, 7]               0\n",
      "          Flatten-30                [-1, 25088]               0\n",
      "           Linear-31                 [-1, 4096]     102,764,544\n",
      "             ReLU-32                 [-1, 4096]               0\n",
      "           Linear-33                 [-1, 4096]      16,781,312\n",
      "             ReLU-34                 [-1, 4096]               0\n",
      "           Linear-35                 [-1, 1000]       4,097,000\n",
      "             ReLU-36                 [-1, 1000]               0\n",
      "          Softmax-37                 [-1, 1000]               0\n",
      "================================================================\n",
      "Total params: 137,767,464\n",
      "Trainable params: 137,767,464\n",
      "Non-trainable params: 0\n",
      "----------------------------------------------------------------\n",
      "Input size (MB): 0.57\n",
      "Forward/backward pass size (MB): 206.48\n",
      "Params size (MB): 525.54\n",
      "Estimated Total Size (MB): 732.60\n",
      "----------------------------------------------------------------\n"
     ]
    }
   ],
   "execution_count": 30
  }
 ],
 "metadata": {
  "colab": {
   "collapsed_sections": [],
   "include_colab_link": true,
   "name": "Tutorial_PyTorch_VGG16_CNN_Part3_1.ipynb",
   "provenance": []
  },
  "kernelspec": {
   "display_name": "Python 3 (ipykernel)",
   "name": "python3",
   "language": "python"
  },
  "language_info": {
   "name": "python"
  }
 },
 "nbformat": 4,
 "nbformat_minor": 0
}
