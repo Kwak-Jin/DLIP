{
 "cells": [
  {
   "cell_type": "markdown",
   "metadata": {
    "id": "d0yKMyUBeU3P"
   },
   "source": [
    "# **DLIP Tutorial - PyTorch**\n",
    "\n",
    "## MNIST Classification using PyTorch\n",
    "Y.-K. Kim\n",
    "(updated 2024. 4. 29)\n",
    "\n"
   ]
  },
  {
   "cell_type": "markdown",
   "metadata": {},
   "source": [
    "## For CoLab Usage:\n",
    "\n",
    "1. Download this notebook\n",
    "2. Then, open in Colab"
   ]
  },
  {
   "cell_type": "markdown",
   "metadata": {
    "id": "ZO152O2SzILP"
   },
   "source": [
    "The purpose of this tutorial is to learn how to build a simple Multi-Layer Percentron (MLP or ANN) for classification of handwritting digits (MNIST)\n",
    "\n",
    "==================="
   ]
  },
  {
   "cell_type": "markdown",
   "metadata": {
    "id": "3lHqSoDaeUSs"
   },
   "source": [
    "## Setup Pytorch and Numpy and GPU"
   ]
  },
  {
   "cell_type": "code",
   "metadata": {
    "colab": {
     "base_uri": "https://localhost:8080/"
    },
    "id": "y228XLuj1215",
    "outputId": "46767815-1b31-4e62-acbd-22cd6fbd870c",
    "ExecuteTime": {
     "end_time": "2024-05-10T04:11:45.267102Z",
     "start_time": "2024-05-10T04:11:45.253686Z"
    }
   },
   "source": [
    "import torch \n",
    "import torch.nn as nn\n",
    "import torch.nn.functional as F\n",
    "import torchvision\n",
    "import torchvision.transforms as transforms\n",
    "from torch.utils.data import DataLoader\n",
    "from torchvision import datasets\n",
    "from torchvision.transforms import ToTensor\n",
    "\n",
    "import numpy as np \n",
    "import matplotlib.pyplot as plt\n",
    "\n",
    "print(torch.__version__)"
   ],
   "outputs": [
    {
     "name": "stdout",
     "output_type": "stream",
     "text": [
      "2.2.0\n"
     ]
    }
   ],
   "execution_count": 7
  },
  {
   "cell_type": "code",
   "metadata": {
    "colab": {
     "base_uri": "https://localhost:8080/"
    },
    "id": "shdSXuyuE1rJ",
    "outputId": "4ac19d45-8223-4df7-c1c9-8d91f8d3f0dd",
    "ExecuteTime": {
     "end_time": "2024-05-10T04:11:45.328010Z",
     "start_time": "2024-05-10T04:11:45.320064Z"
    }
   },
   "source": [
    "# Select GPU or CPU for training.\n",
    "device = \"cuda\" if torch.cuda.is_available() else \"cpu\"\n",
    "print(f\"Using {device} device\")"
   ],
   "outputs": [
    {
     "name": "stdout",
     "output_type": "stream",
     "text": [
      "Using cuda device\n"
     ]
    }
   ],
   "execution_count": 8
  },
  {
   "cell_type": "markdown",
   "metadata": {
    "id": "blEBaK0ugMUS"
   },
   "source": [
    "## Prepare Datasets\n",
    "### OpenDataset from TorchVision"
   ]
  },
  {
   "cell_type": "markdown",
   "metadata": {
    "id": "y0odtPtd2bzl"
   },
   "source": [
    "\n",
    "1. Loading OpenDataset (Fashion MNIST) from Pytorch data\n",
    "* ``Dataset``:  stores the samples and their corresponding labels\n",
    "* ``DataLoader`` wraps an iterable around the ``Dataset``.\n"
   ]
  },
  {
   "cell_type": "code",
   "metadata": {
    "id": "r8PiOEFx2bzn",
    "ExecuteTime": {
     "end_time": "2024-05-10T04:11:45.358907Z",
     "start_time": "2024-05-10T04:11:45.329009Z"
    }
   },
   "source": [
    "# Download Dataset from TorchVision MNIST\n",
    "# Once, downloaded locally, it does not download again.\n",
    "training_data = datasets.MNIST(\n",
    "    root=\"data\",\n",
    "    train=True,\n",
    "    download=True,\n",
    "    transform=ToTensor(),   #converts 0~255 value to 0~1 value.\n",
    ")\n",
    "\n",
    "# Download test data from open datasets.\n",
    "test_data = datasets.MNIST(\n",
    "    root=\"data\",\n",
    "    train=False,\n",
    "    download=True,\n",
    "    transform=ToTensor(),\n",
    ")"
   ],
   "outputs": [],
   "execution_count": 9
  },
  {
   "cell_type": "markdown",
   "metadata": {
    "id": "Uel8Ptvr2bzo"
   },
   "source": [
    "2. Use  ``DataLoader`` to  make dataset iterable.\n",
    "* supports automatic batching, sampling, shuffling and multiprocess data loading.\n",
    "\n"
   ]
  },
  {
   "cell_type": "code",
   "metadata": {
    "colab": {
     "base_uri": "https://localhost:8080/"
    },
    "id": "zdFdt1pe2bzo",
    "outputId": "31d160c7-ae30-49bc-c936-b6176ddea0c2",
    "ExecuteTime": {
     "end_time": "2024-05-10T04:11:45.374326Z",
     "start_time": "2024-05-10T04:11:45.359908Z"
    }
   },
   "source": [
    "# Create DataLoader with Batch size N\n",
    "batch_size = 64\n",
    "train_dataloader = DataLoader(training_data, batch_size=batch_size, shuffle=True)\n",
    "test_dataloader = DataLoader(test_data, batch_size=batch_size, shuffle=True)\n",
    "\n",
    "for X, y in test_dataloader:\n",
    "    print(f\"Shape of X [N, C, H, W]: {X.shape}\")\n",
    "    print(f\"Shape of y: {y.shape} {y.dtype}\")\n",
    "    break"
   ],
   "outputs": [
    {
     "name": "stdout",
     "output_type": "stream",
     "text": [
      "Shape of X [N, C, H, W]: torch.Size([64, 1, 28, 28])\n",
      "Shape of y: torch.Size([64]) torch.int64\n"
     ]
    }
   ],
   "execution_count": 10
  },
  {
   "cell_type": "markdown",
   "metadata": {
    "id": "QQ7CqtrmG0mp"
   },
   "source": [
    "3. Plot some training data\n"
   ]
  },
  {
   "cell_type": "code",
   "metadata": {
    "id": "ccpGGs8dG4dR",
    "ExecuteTime": {
     "end_time": "2024-05-10T04:11:45.562566Z",
     "start_time": "2024-05-10T04:11:45.375325Z"
    }
   },
   "source": [
    "# Visualize some Datasets\n",
    "dataiter = iter(train_dataloader)\n",
    "images, labels = next(dataiter)\n",
    "\n",
    "figure = plt.figure()\n",
    "num_of_images = 9\n",
    "for index in range(num_of_images):\n",
    "    plt.subplot(3, 3, index+1)\n",
    "    plt.axis('off')\n",
    "    plt.title(\"Ground Truth: {}\".format(labels[index]))\n",
    "    plt.imshow(images[index].numpy().squeeze(), cmap='gray_r')"
   ],
   "outputs": [
    {
     "data": {
      "text/plain": [
       "<Figure size 640x480 with 9 Axes>"
      ],
      "image/png": "[encoded data removed]"
     },
     "metadata": {},
     "output_type": "display_data"
    }
   ],
   "execution_count": 11
  },
  {
   "cell_type": "markdown",
   "metadata": {
    "id": "slHZqHyYFZ7p"
   },
   "source": [
    "# Define model\n",
    "\n",
    "create a class that inherits from nn.Module\n",
    "\n",
    "\n",
    "* Define the layers of the network in  __init__ function\n",
    "* Specify Forward network in the **forward function.**"
   ]
  },
  {
   "cell_type": "markdown",
   "metadata": {
    "id": "wZw6AmlIk3OD"
   },
   "source": [
    "![](https://github.com/bentrevett/pytorch-image-classification/blob/master/assets/mlp-mnist.png?raw=1)\n",
    "\n",
    "\n",
    "* Image Input: 1x28x28  image\n",
    "* Flatten into a 1*784 element vector\n",
    "* 1st Layer: linear to 250 dimensions / ReLU\n",
    "* 2nd Layer: linear to 100 dim / ReLU\n",
    "* 3rd Layer: linear to 10 dim / log SoftMax\n",
    "* Output:  1x10\n",
    "\n",
    "Actication function: ReLU\n",
    "\n",
    "**NOTE**\n",
    "\n",
    "\n",
    "1) nn.Linear(InputDim, OutputDim)\n",
    "\n",
    "2) x.view( )\n",
    "* Similar to  NumPy Reshape(). /// [batch size, height * width]\n",
    "\n",
    "\n",
    "### "
   ]
  },
  {
   "cell_type": "code",
   "metadata": {
    "colab": {
     "base_uri": "https://localhost:8080/"
    },
    "id": "lfyWWHhon11D",
    "outputId": "cd9f866c-ea93-4834-9dbe-d378bd6d3e7a",
    "ExecuteTime": {
     "end_time": "2024-05-10T04:58:39.838581Z",
     "start_time": "2024-05-10T04:58:39.813569Z"
    }
   },
   "source": [
    "# Model Architecture\n",
    "class MLP(nn.Module):\n",
    "    def __init__(self):\n",
    "        super(MLP, self).__init__()\n",
    "        # 1st layer (28*28) into 1-D vector\n",
    "        self.flatten = nn.Flatten() \n",
    "        # 1st layer to 2nd layer\n",
    "        self.linear1 = nn.Linear(28*28, 250)\n",
    "        # 2nd layer to 3rd layer\n",
    "        self.linear2 = nn.Linear(250, 100)\n",
    "        # 3rd layer to output (0~9)\n",
    "        self.linear3 = nn.Linear(100, 10)\n",
    "\n",
    "\n",
    "    def forward(self, x):\n",
    "        x=self.flatten(x)\n",
    "        x = F.sigmoid(self.linear1(x))\n",
    "        x = F.sigmoid(self.linear2(x))\n",
    "        y_pred = F.log_softmax(self.linear3(x))\n",
    "        return y_pred\n",
    "\n",
    "\n",
    "model = MLP().to(device)\n",
    "print(model)"
   ],
   "outputs": [
    {
     "name": "stdout",
     "output_type": "stream",
     "text": [
      "MLP(\n",
      "  (flatten): Flatten(start_dim=1, end_dim=-1)\n",
      "  (linear1): Linear(in_features=784, out_features=250, bias=True)\n",
      "  (linear2): Linear(in_features=250, out_features=100, bias=True)\n",
      "  (linear3): Linear(in_features=100, out_features=10, bias=True)\n",
      ")\n"
     ]
    }
   ],
   "execution_count": 58
  },
  {
   "cell_type": "markdown",
   "metadata": {
    "id": "0fDrJCT_esSf"
   },
   "source": [
    "## Weight Initialization\n",
    " In Keras, dense layers by default uses “glorot_uniform” random initializer, it is also called Xavier normal initializer."
   ]
  },
  {
   "cell_type": "markdown",
   "metadata": {
    "id": "Z5SxTs1he7Df"
   },
   "source": [
    "# Optimization Setup  \n",
    "\n",
    "### Optmizer function\n",
    " Gradient descent is the common optimisation strategy used in neural networks. Many of the variants and advanced optimisation functions now are available,\n",
    "  \n",
    "- Stochastic Gradient Descent, Adagrade, Adam, etc"
   ]
  },
  {
   "cell_type": "markdown",
   "metadata": {},
   "source": [
    "### Loss function\n",
    "\n",
    "1. Linear regression->Mean Squared Error\n",
    "2. Classification->Cross entropy,"
   ]
  },
  {
   "metadata": {
    "ExecuteTime": {
     "end_time": "2024-05-10T05:00:14.418085Z",
     "start_time": "2024-05-10T05:00:14.404306Z"
    }
   },
   "cell_type": "code",
   "source": [
    "# Loss Function\n",
    "loss_fn = nn.CrossEntropyLoss()\n",
    "\n",
    "# Optimizer\n",
    "optimizer = torch.optim.Adam(model.parameters(), lr=1e-3)"
   ],
   "outputs": [],
   "execution_count": 62
  },
  {
   "cell_type": "markdown",
   "metadata": {
    "id": "LZS7b363jAzB"
   },
   "source": [
    "# Train the model\n",
    "### Define train() function\n",
    "Reuse this function in other tutorials\n"
   ]
  },
  {
   "cell_type": "code",
   "metadata": {
    "id": "tweilksdivvD",
    "ExecuteTime": {
     "end_time": "2024-05-10T05:00:17.600516Z",
     "start_time": "2024-05-10T05:00:17.590517Z"
    }
   },
   "source": [
    "# Train Module\n",
    "def train(dataloader, model, loss_fn, optimizer):\n",
    "    # Dataset Size\n",
    "    size = len(dataloader.dataset)\n",
    "    \n",
    "    # Model in Training Mode\n",
    "    model.train()\n",
    "\n",
    "    running_loss=0.0\n",
    "\n",
    "    for batch, (X, y) in enumerate(dataloader):\n",
    "        X, y = X.to(device), y.to(device)\n",
    "\n",
    "        # Initialize the gradient to zero gradients for every batch\n",
    "        optimizer.zero_grad()   \n",
    "\n",
    "        # Compute prediction loss \n",
    "        pred = model(X)\n",
    "        loss = loss_fn(pred, y)\n",
    "\n",
    "        # Backpropagation and Update        \n",
    "        loss.backward()\n",
    "        optimizer.step()        \n",
    "\n",
    "        # Print loss for every 100 batch in an epoch\n",
    "        running_loss+=loss.item()\n",
    "        if batch % 100 == 0:\n",
    "            running_loss=running_loss/100\n",
    "            current = batch * len(X)\n",
    "            print(f\"loss: {running_loss:>7f}  [{current:>5d}/{size:>5d}]\")\n",
    "            running_loss=0"
   ],
   "outputs": [],
   "execution_count": 63
  },
  {
   "cell_type": "markdown",
   "metadata": {
    "id": "QQ6lGq6UJPVw"
   },
   "source": [
    "### Train\n",
    "Print training process"
   ]
  },
  {
   "cell_type": "code",
   "metadata": {
    "id": "5--jTU4tJS0Y",
    "ExecuteTime": {
     "end_time": "2024-05-10T05:09:45.379864Z",
     "start_time": "2024-05-10T05:02:52.776630Z"
    }
   },
   "source": [
    "epochs = 50\n",
    "for t in range(epochs):\n",
    "    print(f\"Epoch {t+1}\\n-------------------------------\")\n",
    "    train(train_dataloader, model, loss_fn, optimizer)\n",
    "print(\"Done!\")"
   ],
   "outputs": [
    {
     "name": "stdout",
     "output_type": "stream",
     "text": [
      "Epoch 1\n",
      "-------------------------------\n",
      "loss: 0.000111  [    0/60000]\n"
     ]
    },
    {
     "name": "stderr",
     "output_type": "stream",
     "text": [
      "C:\\Windows\\Temp\\ipykernel_21940\\867323015.py:19: UserWarning: Implicit dimension choice for log_softmax has been deprecated. Change the call to include dim=X as an argument.\n",
      "  y_pred = F.log_softmax(self.linear3(x))\n"
     ]
    },
    {
     "name": "stdout",
     "output_type": "stream",
     "text": [
      "loss: 0.015188  [ 6400/60000]\n",
      "loss: 0.016433  [12800/60000]\n",
      "loss: 0.017024  [19200/60000]\n",
      "loss: 0.017769  [25600/60000]\n",
      "loss: 0.014657  [32000/60000]\n",
      "loss: 0.019110  [38400/60000]\n",
      "loss: 0.020922  [44800/60000]\n",
      "loss: 0.021633  [51200/60000]\n",
      "loss: 0.017305  [57600/60000]\n",
      "Epoch 2\n",
      "-------------------------------\n",
      "loss: 0.000129  [    0/60000]\n",
      "loss: 0.013505  [ 6400/60000]\n",
      "loss: 0.011167  [12800/60000]\n",
      "loss: 0.014619  [19200/60000]\n",
      "loss: 0.015806  [25600/60000]\n",
      "loss: 0.013939  [32000/60000]\n",
      "loss: 0.013000  [38400/60000]\n",
      "loss: 0.008768  [44800/60000]\n",
      "loss: 0.014814  [51200/60000]\n",
      "loss: 0.017203  [57600/60000]\n",
      "Epoch 3\n",
      "-------------------------------\n",
      "loss: 0.000088  [    0/60000]\n",
      "loss: 0.010561  [ 6400/60000]\n",
      "loss: 0.008036  [12800/60000]\n",
      "loss: 0.007108  [19200/60000]\n",
      "loss: 0.013466  [25600/60000]\n",
      "loss: 0.013588  [32000/60000]\n",
      "loss: 0.012109  [38400/60000]\n",
      "loss: 0.014195  [44800/60000]\n",
      "loss: 0.011768  [51200/60000]\n",
      "loss: 0.012746  [57600/60000]\n",
      "Epoch 4\n",
      "-------------------------------\n",
      "loss: 0.000072  [    0/60000]\n",
      "loss: 0.009857  [ 6400/60000]\n",
      "loss: 0.005557  [12800/60000]\n",
      "loss: 0.007042  [19200/60000]\n",
      "loss: 0.007575  [25600/60000]\n",
      "loss: 0.008976  [32000/60000]\n",
      "loss: 0.010956  [38400/60000]\n",
      "loss: 0.010923  [44800/60000]\n",
      "loss: 0.009590  [51200/60000]\n",
      "loss: 0.009631  [57600/60000]\n",
      "Epoch 5\n",
      "-------------------------------\n",
      "loss: 0.000059  [    0/60000]\n",
      "loss: 0.006765  [ 6400/60000]\n",
      "loss: 0.005473  [12800/60000]\n",
      "loss: 0.006161  [19200/60000]\n",
      "loss: 0.008160  [25600/60000]\n",
      "loss: 0.005383  [32000/60000]\n",
      "loss: 0.007382  [38400/60000]\n",
      "loss: 0.006853  [44800/60000]\n",
      "loss: 0.010788  [51200/60000]\n",
      "loss: 0.008848  [57600/60000]\n",
      "Epoch 6\n",
      "-------------------------------\n",
      "loss: 0.000001  [    0/60000]\n",
      "loss: 0.005313  [ 6400/60000]\n",
      "loss: 0.004453  [12800/60000]\n",
      "loss: 0.006707  [19200/60000]\n",
      "loss: 0.007515  [25600/60000]\n",
      "loss: 0.004702  [32000/60000]\n",
      "loss: 0.004365  [38400/60000]\n",
      "loss: 0.003063  [44800/60000]\n",
      "loss: 0.003182  [51200/60000]\n",
      "loss: 0.006137  [57600/60000]\n",
      "Epoch 7\n",
      "-------------------------------\n",
      "loss: 0.000051  [    0/60000]\n",
      "loss: 0.003788  [ 6400/60000]\n",
      "loss: 0.003982  [12800/60000]\n",
      "loss: 0.007325  [19200/60000]\n",
      "loss: 0.006163  [25600/60000]\n",
      "loss: 0.003815  [32000/60000]\n",
      "loss: 0.005642  [38400/60000]\n",
      "loss: 0.005522  [44800/60000]\n",
      "loss: 0.006535  [51200/60000]\n",
      "loss: 0.010958  [57600/60000]\n",
      "Epoch 8\n",
      "-------------------------------\n",
      "loss: 0.000020  [    0/60000]\n",
      "loss: 0.004863  [ 6400/60000]\n",
      "loss: 0.003183  [12800/60000]\n",
      "loss: 0.003505  [19200/60000]\n",
      "loss: 0.003528  [25600/60000]\n",
      "loss: 0.008450  [32000/60000]\n",
      "loss: 0.007165  [38400/60000]\n",
      "loss: 0.005532  [44800/60000]\n",
      "loss: 0.004175  [51200/60000]\n",
      "loss: 0.003528  [57600/60000]\n",
      "Epoch 9\n",
      "-------------------------------\n",
      "loss: 0.000007  [    0/60000]\n",
      "loss: 0.001865  [ 6400/60000]\n",
      "loss: 0.002680  [12800/60000]\n",
      "loss: 0.001664  [19200/60000]\n",
      "loss: 0.001452  [25600/60000]\n",
      "loss: 0.001648  [32000/60000]\n",
      "loss: 0.002392  [38400/60000]\n",
      "loss: 0.001566  [44800/60000]\n",
      "loss: 0.001925  [51200/60000]\n",
      "loss: 0.002873  [57600/60000]\n",
      "Epoch 10\n",
      "-------------------------------\n",
      "loss: 0.000007  [    0/60000]\n",
      "loss: 0.001062  [ 6400/60000]\n",
      "loss: 0.001092  [12800/60000]\n",
      "loss: 0.000982  [19200/60000]\n",
      "loss: 0.001018  [25600/60000]\n",
      "loss: 0.002695  [32000/60000]\n",
      "loss: 0.009833  [38400/60000]\n",
      "loss: 0.009254  [44800/60000]\n",
      "loss: 0.007393  [51200/60000]\n",
      "loss: 0.004540  [57600/60000]\n",
      "Epoch 11\n",
      "-------------------------------\n",
      "loss: 0.000233  [    0/60000]\n",
      "loss: 0.004620  [ 6400/60000]\n",
      "loss: 0.007673  [12800/60000]\n",
      "loss: 0.008599  [19200/60000]\n",
      "loss: 0.003776  [25600/60000]\n",
      "loss: 0.004095  [32000/60000]\n",
      "loss: 0.003535  [38400/60000]\n",
      "loss: 0.002204  [44800/60000]\n",
      "loss: 0.001870  [51200/60000]\n",
      "loss: 0.001455  [57600/60000]\n",
      "Epoch 12\n",
      "-------------------------------\n",
      "loss: 0.000008  [    0/60000]\n",
      "loss: 0.000907  [ 6400/60000]\n",
      "loss: 0.001156  [12800/60000]\n",
      "loss: 0.000688  [19200/60000]\n",
      "loss: 0.000769  [25600/60000]\n",
      "loss: 0.000927  [32000/60000]\n",
      "loss: 0.000743  [38400/60000]\n",
      "loss: 0.001029  [44800/60000]\n",
      "loss: 0.002925  [51200/60000]\n",
      "loss: 0.001587  [57600/60000]\n",
      "Epoch 13\n",
      "-------------------------------\n",
      "loss: 0.000008  [    0/60000]\n",
      "loss: 0.001572  [ 6400/60000]\n",
      "loss: 0.000613  [12800/60000]\n",
      "loss: 0.000705  [19200/60000]\n",
      "loss: 0.000618  [25600/60000]\n",
      "loss: 0.000644  [32000/60000]\n",
      "loss: 0.000613  [38400/60000]\n",
      "loss: 0.000769  [44800/60000]\n",
      "loss: 0.007508  [51200/60000]\n",
      "loss: 0.012514  [57600/60000]\n",
      "Epoch 14\n",
      "-------------------------------\n",
      "loss: 0.000204  [    0/60000]\n",
      "loss: 0.012140  [ 6400/60000]\n",
      "loss: 0.004964  [12800/60000]\n",
      "loss: 0.005656  [19200/60000]\n",
      "loss: 0.005016  [25600/60000]\n",
      "loss: 0.003351  [32000/60000]\n",
      "loss: 0.001349  [38400/60000]\n",
      "loss: 0.001213  [44800/60000]\n",
      "loss: 0.001217  [51200/60000]\n",
      "loss: 0.001543  [57600/60000]\n",
      "Epoch 15\n",
      "-------------------------------\n",
      "loss: 0.000002  [    0/60000]\n",
      "loss: 0.007632  [ 6400/60000]\n",
      "loss: 0.004637  [12800/60000]\n",
      "loss: 0.002019  [19200/60000]\n",
      "loss: 0.000638  [25600/60000]\n",
      "loss: 0.001139  [32000/60000]\n",
      "loss: 0.000777  [38400/60000]\n",
      "loss: 0.001407  [44800/60000]\n",
      "loss: 0.000791  [51200/60000]\n",
      "loss: 0.000676  [57600/60000]\n",
      "Epoch 16\n",
      "-------------------------------\n",
      "loss: 0.000030  [    0/60000]\n",
      "loss: 0.000400  [ 6400/60000]\n",
      "loss: 0.000234  [12800/60000]\n",
      "loss: 0.000280  [19200/60000]\n",
      "loss: 0.000306  [25600/60000]\n",
      "loss: 0.000298  [32000/60000]\n",
      "loss: 0.000257  [38400/60000]\n",
      "loss: 0.000232  [44800/60000]\n",
      "loss: 0.000224  [51200/60000]\n",
      "loss: 0.000251  [57600/60000]\n",
      "Epoch 17\n",
      "-------------------------------\n",
      "loss: 0.000001  [    0/60000]\n",
      "loss: 0.000231  [ 6400/60000]\n",
      "loss: 0.000168  [12800/60000]\n",
      "loss: 0.000165  [19200/60000]\n",
      "loss: 0.000177  [25600/60000]\n",
      "loss: 0.000172  [32000/60000]\n",
      "loss: 0.000199  [38400/60000]\n",
      "loss: 0.000171  [44800/60000]\n",
      "loss: 0.000187  [51200/60000]\n",
      "loss: 0.000171  [57600/60000]\n",
      "Epoch 18\n",
      "-------------------------------\n",
      "loss: 0.000002  [    0/60000]\n",
      "loss: 0.000240  [ 6400/60000]\n",
      "loss: 0.002483  [12800/60000]\n",
      "loss: 0.015619  [19200/60000]\n",
      "loss: 0.016909  [25600/60000]\n",
      "loss: 0.008629  [32000/60000]\n",
      "loss: 0.007208  [38400/60000]\n",
      "loss: 0.004213  [44800/60000]\n",
      "loss: 0.004127  [51200/60000]\n",
      "loss: 0.005687  [57600/60000]\n",
      "Epoch 19\n",
      "-------------------------------\n",
      "loss: 0.000006  [    0/60000]\n",
      "loss: 0.002004  [ 6400/60000]\n",
      "loss: 0.001269  [12800/60000]\n",
      "loss: 0.000646  [19200/60000]\n",
      "loss: 0.000454  [25600/60000]\n",
      "loss: 0.000400  [32000/60000]\n",
      "loss: 0.000370  [38400/60000]\n",
      "loss: 0.000403  [44800/60000]\n",
      "loss: 0.000368  [51200/60000]\n",
      "loss: 0.004134  [57600/60000]\n",
      "Epoch 20\n",
      "-------------------------------\n",
      "loss: 0.000092  [    0/60000]\n",
      "loss: 0.002268  [ 6400/60000]\n",
      "loss: 0.000797  [12800/60000]\n",
      "loss: 0.000616  [19200/60000]\n",
      "loss: 0.001098  [25600/60000]\n",
      "loss: 0.002295  [32000/60000]\n",
      "loss: 0.000462  [38400/60000]\n",
      "loss: 0.000986  [44800/60000]\n",
      "loss: 0.001033  [51200/60000]\n",
      "loss: 0.000715  [57600/60000]\n",
      "Epoch 21\n",
      "-------------------------------\n",
      "loss: 0.000001  [    0/60000]\n",
      "loss: 0.000623  [ 6400/60000]\n",
      "loss: 0.000741  [12800/60000]\n",
      "loss: 0.001747  [19200/60000]\n",
      "loss: 0.002694  [25600/60000]\n",
      "loss: 0.002284  [32000/60000]\n",
      "loss: 0.000757  [38400/60000]\n",
      "loss: 0.001524  [44800/60000]\n",
      "loss: 0.006166  [51200/60000]\n",
      "loss: 0.006565  [57600/60000]\n",
      "Epoch 22\n",
      "-------------------------------\n",
      "loss: 0.000072  [    0/60000]\n",
      "loss: 0.004620  [ 6400/60000]\n",
      "loss: 0.002112  [12800/60000]\n",
      "loss: 0.000684  [19200/60000]\n",
      "loss: 0.001074  [25600/60000]\n",
      "loss: 0.001093  [32000/60000]\n",
      "loss: 0.002045  [38400/60000]\n",
      "loss: 0.004534  [44800/60000]\n",
      "loss: 0.001579  [51200/60000]\n",
      "loss: 0.002617  [57600/60000]\n",
      "Epoch 23\n",
      "-------------------------------\n",
      "loss: 0.000002  [    0/60000]\n",
      "loss: 0.004027  [ 6400/60000]\n",
      "loss: 0.001640  [12800/60000]\n",
      "loss: 0.000529  [19200/60000]\n",
      "loss: 0.000308  [25600/60000]\n",
      "loss: 0.000431  [32000/60000]\n",
      "loss: 0.000345  [38400/60000]\n",
      "loss: 0.000349  [44800/60000]\n",
      "loss: 0.000231  [51200/60000]\n",
      "loss: 0.000219  [57600/60000]\n",
      "Epoch 24\n",
      "-------------------------------\n",
      "loss: 0.000000  [    0/60000]\n",
      "loss: 0.000149  [ 6400/60000]\n",
      "loss: 0.000135  [12800/60000]\n",
      "loss: 0.000090  [19200/60000]\n",
      "loss: 0.000117  [25600/60000]\n",
      "loss: 0.000108  [32000/60000]\n",
      "loss: 0.000091  [38400/60000]\n",
      "loss: 0.000104  [44800/60000]\n",
      "loss: 0.000105  [51200/60000]\n",
      "loss: 0.000100  [57600/60000]\n",
      "Epoch 25\n",
      "-------------------------------\n",
      "loss: 0.000000  [    0/60000]\n",
      "loss: 0.000079  [ 6400/60000]\n",
      "loss: 0.000068  [12800/60000]\n",
      "loss: 0.000071  [19200/60000]\n",
      "loss: 0.000089  [25600/60000]\n",
      "loss: 0.000064  [32000/60000]\n",
      "loss: 0.000064  [38400/60000]\n",
      "loss: 0.000064  [44800/60000]\n",
      "loss: 0.000070  [51200/60000]\n",
      "loss: 0.000082  [57600/60000]\n",
      "Epoch 26\n",
      "-------------------------------\n",
      "loss: 0.000000  [    0/60000]\n",
      "loss: 0.000055  [ 6400/60000]\n",
      "loss: 0.000055  [12800/60000]\n",
      "loss: 0.000059  [19200/60000]\n",
      "loss: 0.000056  [25600/60000]\n",
      "loss: 0.000054  [32000/60000]\n",
      "loss: 0.000047  [38400/60000]\n",
      "loss: 0.000056  [44800/60000]\n",
      "loss: 0.000078  [51200/60000]\n",
      "loss: 0.000054  [57600/60000]\n",
      "Epoch 27\n",
      "-------------------------------\n",
      "loss: 0.000001  [    0/60000]\n",
      "loss: 0.000068  [ 6400/60000]\n",
      "loss: 0.000052  [12800/60000]\n",
      "loss: 0.000056  [19200/60000]\n",
      "loss: 0.000053  [25600/60000]\n",
      "loss: 0.000064  [32000/60000]\n",
      "loss: 0.000045  [38400/60000]\n",
      "loss: 0.007341  [44800/60000]\n",
      "loss: 0.027395  [51200/60000]\n",
      "loss: 0.014349  [57600/60000]\n",
      "Epoch 28\n",
      "-------------------------------\n",
      "loss: 0.000016  [    0/60000]\n",
      "loss: 0.005952  [ 6400/60000]\n",
      "loss: 0.002017  [12800/60000]\n",
      "loss: 0.002452  [19200/60000]\n",
      "loss: 0.001569  [25600/60000]\n",
      "loss: 0.001679  [32000/60000]\n",
      "loss: 0.001545  [38400/60000]\n",
      "loss: 0.001114  [44800/60000]\n",
      "loss: 0.001231  [51200/60000]\n",
      "loss: 0.001562  [57600/60000]\n",
      "Epoch 29\n",
      "-------------------------------\n",
      "loss: 0.000001  [    0/60000]\n",
      "loss: 0.000657  [ 6400/60000]\n",
      "loss: 0.000321  [12800/60000]\n",
      "loss: 0.000222  [19200/60000]\n",
      "loss: 0.000146  [25600/60000]\n",
      "loss: 0.000359  [32000/60000]\n",
      "loss: 0.001009  [38400/60000]\n",
      "loss: 0.000609  [44800/60000]\n",
      "loss: 0.001390  [51200/60000]\n",
      "loss: 0.000862  [57600/60000]\n",
      "Epoch 30\n",
      "-------------------------------\n",
      "loss: 0.000011  [    0/60000]\n",
      "loss: 0.000275  [ 6400/60000]\n",
      "loss: 0.000162  [12800/60000]\n",
      "loss: 0.000123  [19200/60000]\n",
      "loss: 0.000100  [25600/60000]\n",
      "loss: 0.000065  [32000/60000]\n",
      "loss: 0.000104  [38400/60000]\n",
      "loss: 0.000141  [44800/60000]\n",
      "loss: 0.000115  [51200/60000]\n",
      "loss: 0.000097  [57600/60000]\n",
      "Epoch 31\n",
      "-------------------------------\n",
      "loss: 0.000001  [    0/60000]\n",
      "loss: 0.000053  [ 6400/60000]\n",
      "loss: 0.000055  [12800/60000]\n",
      "loss: 0.000063  [19200/60000]\n",
      "loss: 0.000067  [25600/60000]\n",
      "loss: 0.000054  [32000/60000]\n",
      "loss: 0.000060  [38400/60000]\n",
      "loss: 0.000058  [44800/60000]\n",
      "loss: 0.000043  [51200/60000]\n",
      "loss: 0.000048  [57600/60000]\n",
      "Epoch 32\n",
      "-------------------------------\n",
      "loss: 0.000000  [    0/60000]\n",
      "loss: 0.000048  [ 6400/60000]\n",
      "loss: 0.000044  [12800/60000]\n",
      "loss: 0.000038  [19200/60000]\n",
      "loss: 0.000034  [25600/60000]\n",
      "loss: 0.000048  [32000/60000]\n",
      "loss: 0.000040  [38400/60000]\n",
      "loss: 0.000042  [44800/60000]\n",
      "loss: 0.000047  [51200/60000]\n",
      "loss: 0.000037  [57600/60000]\n",
      "Epoch 33\n",
      "-------------------------------\n",
      "loss: 0.000000  [    0/60000]\n",
      "loss: 0.000031  [ 6400/60000]\n",
      "loss: 0.000037  [12800/60000]\n",
      "loss: 0.000035  [19200/60000]\n",
      "loss: 0.000034  [25600/60000]\n",
      "loss: 0.000030  [32000/60000]\n",
      "loss: 0.000035  [38400/60000]\n",
      "loss: 0.000035  [44800/60000]\n",
      "loss: 0.000034  [51200/60000]\n",
      "loss: 0.000036  [57600/60000]\n",
      "Epoch 34\n",
      "-------------------------------\n",
      "loss: 0.000000  [    0/60000]\n",
      "loss: 0.000025  [ 6400/60000]\n",
      "loss: 0.000025  [12800/60000]\n",
      "loss: 0.000029  [19200/60000]\n",
      "loss: 0.000026  [25600/60000]\n",
      "loss: 0.000024  [32000/60000]\n",
      "loss: 0.000030  [38400/60000]\n",
      "loss: 0.000035  [44800/60000]\n",
      "loss: 0.000023  [51200/60000]\n",
      "loss: 0.000028  [57600/60000]\n",
      "Epoch 35\n",
      "-------------------------------\n",
      "loss: 0.000000  [    0/60000]\n",
      "loss: 0.000039  [ 6400/60000]\n",
      "loss: 0.025762  [12800/60000]\n",
      "loss: 0.023737  [19200/60000]\n",
      "loss: 0.009204  [25600/60000]\n",
      "loss: 0.004965  [32000/60000]\n",
      "loss: 0.002909  [38400/60000]\n",
      "loss: 0.001737  [44800/60000]\n",
      "loss: 0.001127  [51200/60000]\n",
      "loss: 0.000662  [57600/60000]\n",
      "Epoch 36\n",
      "-------------------------------\n",
      "loss: 0.000001  [    0/60000]\n",
      "loss: 0.000334  [ 6400/60000]\n",
      "loss: 0.000350  [12800/60000]\n",
      "loss: 0.000510  [19200/60000]\n",
      "loss: 0.000220  [25600/60000]\n",
      "loss: 0.000301  [32000/60000]\n",
      "loss: 0.000497  [38400/60000]\n",
      "loss: 0.000498  [44800/60000]\n",
      "loss: 0.002854  [51200/60000]\n",
      "loss: 0.001583  [57600/60000]\n",
      "Epoch 37\n",
      "-------------------------------\n",
      "loss: 0.000000  [    0/60000]\n",
      "loss: 0.002725  [ 6400/60000]\n",
      "loss: 0.001123  [12800/60000]\n",
      "loss: 0.001465  [19200/60000]\n",
      "loss: 0.000728  [25600/60000]\n",
      "loss: 0.000531  [32000/60000]\n",
      "loss: 0.000929  [38400/60000]\n",
      "loss: 0.000464  [44800/60000]\n",
      "loss: 0.000243  [51200/60000]\n",
      "loss: 0.000177  [57600/60000]\n",
      "Epoch 38\n",
      "-------------------------------\n",
      "loss: 0.000003  [    0/60000]\n",
      "loss: 0.000099  [ 6400/60000]\n",
      "loss: 0.000068  [12800/60000]\n",
      "loss: 0.000073  [19200/60000]\n",
      "loss: 0.000067  [25600/60000]\n",
      "loss: 0.000056  [32000/60000]\n",
      "loss: 0.000084  [38400/60000]\n",
      "loss: 0.000090  [44800/60000]\n",
      "loss: 0.000050  [51200/60000]\n",
      "loss: 0.000056  [57600/60000]\n",
      "Epoch 39\n",
      "-------------------------------\n",
      "loss: 0.000000  [    0/60000]\n",
      "loss: 0.004020  [ 6400/60000]\n",
      "loss: 0.006813  [12800/60000]\n",
      "loss: 0.011812  [19200/60000]\n",
      "loss: 0.009440  [25600/60000]\n",
      "loss: 0.001521  [32000/60000]\n",
      "loss: 0.004156  [38400/60000]\n",
      "loss: 0.002495  [44800/60000]\n",
      "loss: 0.003603  [51200/60000]\n",
      "loss: 0.001736  [57600/60000]\n",
      "Epoch 40\n",
      "-------------------------------\n",
      "loss: 0.000001  [    0/60000]\n",
      "loss: 0.000924  [ 6400/60000]\n",
      "loss: 0.000377  [12800/60000]\n",
      "loss: 0.000669  [19200/60000]\n",
      "loss: 0.000165  [25600/60000]\n",
      "loss: 0.000167  [32000/60000]\n",
      "loss: 0.000167  [38400/60000]\n",
      "loss: 0.000120  [44800/60000]\n",
      "loss: 0.000103  [51200/60000]\n",
      "loss: 0.000103  [57600/60000]\n",
      "Epoch 41\n",
      "-------------------------------\n",
      "loss: 0.000000  [    0/60000]\n",
      "loss: 0.000063  [ 6400/60000]\n",
      "loss: 0.000053  [12800/60000]\n",
      "loss: 0.000039  [19200/60000]\n",
      "loss: 0.000059  [25600/60000]\n",
      "loss: 0.000049  [32000/60000]\n",
      "loss: 0.000046  [38400/60000]\n",
      "loss: 0.000073  [44800/60000]\n",
      "loss: 0.000036  [51200/60000]\n",
      "loss: 0.000046  [57600/60000]\n",
      "Epoch 42\n",
      "-------------------------------\n",
      "loss: 0.000000  [    0/60000]\n",
      "loss: 0.000035  [ 6400/60000]\n",
      "loss: 0.000035  [12800/60000]\n",
      "loss: 0.000029  [19200/60000]\n",
      "loss: 0.000032  [25600/60000]\n",
      "loss: 0.000031  [32000/60000]\n",
      "loss: 0.000034  [38400/60000]\n",
      "loss: 0.000036  [44800/60000]\n",
      "loss: 0.000038  [51200/60000]\n",
      "loss: 0.000036  [57600/60000]\n",
      "Epoch 43\n",
      "-------------------------------\n",
      "loss: 0.000000  [    0/60000]\n",
      "loss: 0.000025  [ 6400/60000]\n",
      "loss: 0.000029  [12800/60000]\n",
      "loss: 0.000028  [19200/60000]\n",
      "loss: 0.000024  [25600/60000]\n",
      "loss: 0.000022  [32000/60000]\n",
      "loss: 0.000027  [38400/60000]\n",
      "loss: 0.000022  [44800/60000]\n",
      "loss: 0.000029  [51200/60000]\n",
      "loss: 0.000027  [57600/60000]\n",
      "Epoch 44\n",
      "-------------------------------\n",
      "loss: 0.000000  [    0/60000]\n",
      "loss: 0.000018  [ 6400/60000]\n",
      "loss: 0.000019  [12800/60000]\n",
      "loss: 0.000022  [19200/60000]\n",
      "loss: 0.000026  [25600/60000]\n",
      "loss: 0.000020  [32000/60000]\n",
      "loss: 0.000025  [38400/60000]\n",
      "loss: 0.000023  [44800/60000]\n",
      "loss: 0.000019  [51200/60000]\n",
      "loss: 0.000018  [57600/60000]\n",
      "Epoch 45\n",
      "-------------------------------\n",
      "loss: 0.000000  [    0/60000]\n",
      "loss: 0.000019  [ 6400/60000]\n",
      "loss: 0.000016  [12800/60000]\n",
      "loss: 0.000017  [19200/60000]\n",
      "loss: 0.000014  [25600/60000]\n",
      "loss: 0.000015  [32000/60000]\n",
      "loss: 0.000017  [38400/60000]\n",
      "loss: 0.000015  [44800/60000]\n",
      "loss: 0.000017  [51200/60000]\n",
      "loss: 0.000020  [57600/60000]\n",
      "Epoch 46\n",
      "-------------------------------\n",
      "loss: 0.000000  [    0/60000]\n",
      "loss: 0.000015  [ 6400/60000]\n",
      "loss: 0.000011  [12800/60000]\n",
      "loss: 0.000013  [19200/60000]\n",
      "loss: 0.000013  [25600/60000]\n",
      "loss: 0.000012  [32000/60000]\n",
      "loss: 0.000014  [38400/60000]\n",
      "loss: 0.000012  [44800/60000]\n",
      "loss: 0.000014  [51200/60000]\n",
      "loss: 0.000019  [57600/60000]\n",
      "Epoch 47\n",
      "-------------------------------\n",
      "loss: 0.000000  [    0/60000]\n",
      "loss: 0.000011  [ 6400/60000]\n",
      "loss: 0.000013  [12800/60000]\n",
      "loss: 0.000011  [19200/60000]\n",
      "loss: 0.000011  [25600/60000]\n",
      "loss: 0.000012  [32000/60000]\n",
      "loss: 0.000010  [38400/60000]\n",
      "loss: 0.000009  [44800/60000]\n",
      "loss: 0.000012  [51200/60000]\n",
      "loss: 0.000015  [57600/60000]\n",
      "Epoch 48\n",
      "-------------------------------\n",
      "loss: 0.000000  [    0/60000]\n",
      "loss: 0.000009  [ 6400/60000]\n",
      "loss: 0.000008  [12800/60000]\n",
      "loss: 0.000008  [19200/60000]\n",
      "loss: 0.000008  [25600/60000]\n",
      "loss: 0.000007  [32000/60000]\n",
      "loss: 0.000008  [38400/60000]\n",
      "loss: 0.000008  [44800/60000]\n",
      "loss: 0.000009  [51200/60000]\n",
      "loss: 0.000009  [57600/60000]\n",
      "Epoch 49\n",
      "-------------------------------\n",
      "loss: 0.000000  [    0/60000]\n",
      "loss: 0.000006  [ 6400/60000]\n",
      "loss: 0.000007  [12800/60000]\n",
      "loss: 0.000006  [19200/60000]\n",
      "loss: 0.000006  [25600/60000]\n",
      "loss: 0.000007  [32000/60000]\n",
      "loss: 0.000007  [38400/60000]\n",
      "loss: 0.000007  [44800/60000]\n",
      "loss: 0.000007  [51200/60000]\n",
      "loss: 0.000006  [57600/60000]\n",
      "Epoch 50\n",
      "-------------------------------\n",
      "loss: 0.000000  [    0/60000]\n",
      "loss: 0.000006  [ 6400/60000]\n",
      "loss: 0.000005  [12800/60000]\n",
      "loss: 0.000004  [19200/60000]\n",
      "loss: 0.000006  [25600/60000]\n",
      "loss: 0.000006  [32000/60000]\n",
      "loss: 0.003405  [38400/60000]\n",
      "loss: 0.039707  [44800/60000]\n",
      "loss: 0.007224  [51200/60000]\n",
      "loss: 0.009160  [57600/60000]\n",
      "Done!\n"
     ]
    }
   ],
   "execution_count": 71
  },
  {
   "cell_type": "markdown",
   "metadata": {
    "id": "T9JJWT1A8zvX"
   },
   "source": [
    "# Test the model  ``eval()``\n",
    "\n",
    "### Define **test()** function\n",
    "Using ``eval()`` for test. Evaluate mode로 전환\n",
    "This function can be reused in other tutorials"
   ]
  },
  {
   "cell_type": "code",
   "metadata": {
    "id": "xvmC5oFs72SC",
    "ExecuteTime": {
     "end_time": "2024-05-10T05:10:06.419935Z",
     "start_time": "2024-05-10T05:10:06.413985Z"
    }
   },
   "source": [
    "def test(dataloader, model, loss_fn):\n",
    "    # Dataset Size\n",
    "    size = len(dataloader.dataset)\n",
    "\n",
    "    # Batch Size\n",
    "    num_batches = len(dataloader)\n",
    "    \n",
    "    # Model in Evaluation Mode\n",
    "    model.eval()\n",
    "\n",
    "    test_loss, correctN = 0, 0\n",
    "    \n",
    "    # Disable grad() computation to reduce memory consumption.\n",
    "    with torch.no_grad():\n",
    "        for X, y in dataloader:\n",
    "            X, y = X.to(device), y.to(device)\n",
    "            \n",
    "            # Compute average prediction loss \n",
    "            pred = model(X)            \n",
    "            test_loss += loss_fn(pred, y).item()\n",
    "\n",
    "            # Predict Label\n",
    "            y_pred=pred.argmax(1);\n",
    "            correctN += (y_pred == y).type(torch.float).sum().item()\n",
    "            \n",
    "    test_loss /= num_batches\n",
    "    correctN /= size\n",
    "    print(f\"Test Error: \\n Accuracy: {(100*correctN):>0.1f}%, Avg loss: {test_loss:>8f} \\n\")\n",
    "\n"
   ],
   "outputs": [],
   "execution_count": 72
  },
  {
   "cell_type": "markdown",
   "metadata": {
    "id": "Lc_uKTg685fR"
   },
   "source": [
    "### Test\n",
    "Print test data accuracy"
   ]
  },
  {
   "cell_type": "code",
   "metadata": {
    "colab": {
     "base_uri": "https://localhost:8080/"
    },
    "id": "3AyUVhP58U4W",
    "outputId": "0a1f3ca4-f6fa-4cb0-988b-f61199c24fd5",
    "ExecuteTime": {
     "end_time": "2024-05-10T05:10:10.969549Z",
     "start_time": "2024-05-10T05:10:09.843309Z"
    }
   },
   "source": [
    "test(test_dataloader, model, loss_fn)"
   ],
   "outputs": [
    {
     "name": "stderr",
     "output_type": "stream",
     "text": [
      "C:\\Windows\\Temp\\ipykernel_21940\\867323015.py:19: UserWarning: Implicit dimension choice for log_softmax has been deprecated. Change the call to include dim=X as an argument.\n",
      "  y_pred = F.log_softmax(self.linear3(x))\n"
     ]
    },
    {
     "name": "stdout",
     "output_type": "stream",
     "text": [
      "Test Error: \n",
      " Accuracy: 97.8%, Avg loss: 0.124597 \n",
      "\n"
     ]
    }
   ],
   "execution_count": 73
  },
  {
   "cell_type": "markdown",
   "metadata": {
    "id": "7reJNX_fMgwG"
   },
   "source": [
    "### Visualize Evaluation Results\n",
    "\n",
    "Select random test images and evaluate"
   ]
  },
  {
   "cell_type": "code",
   "metadata": {
    "colab": {
     "base_uri": "https://localhost:8080/"
    },
    "id": "zpVhWXBYMlYh",
    "outputId": "ca332027-e51a-4632-92b9-be0bcfd9be1b",
    "ExecuteTime": {
     "end_time": "2024-05-10T05:10:36.629292Z",
     "start_time": "2024-05-10T05:10:36.605291Z"
    }
   },
   "source": [
    "# Get some random test  images // BatchSize at a time\n",
    "dataiter = iter(test_dataloader)\n",
    "images, labels = next(dataiter)\n",
    "print(images.size())\n",
    "\n",
    "# Evaluate mode\n",
    "# Prediction of some sample images \n",
    "images, labels = images.to(device), labels.to(device)\n",
    "with torch.no_grad():\n",
    "    pred = model(images)\n",
    "    _, predicted = torch.max(pred.data, 1)\n"
   ],
   "outputs": [
    {
     "name": "stdout",
     "output_type": "stream",
     "text": [
      "torch.Size([64, 1, 28, 28])\n"
     ]
    },
    {
     "name": "stderr",
     "output_type": "stream",
     "text": [
      "C:\\Windows\\Temp\\ipykernel_21940\\867323015.py:19: UserWarning: Implicit dimension choice for log_softmax has been deprecated. Change the call to include dim=X as an argument.\n",
      "  y_pred = F.log_softmax(self.linear3(x))\n"
     ]
    }
   ],
   "execution_count": 76
  },
  {
   "cell_type": "markdown",
   "metadata": {
    "id": "J8Lnx8mKRo_c"
   },
   "source": [
    "Plot some test image results"
   ]
  },
  {
   "cell_type": "code",
   "metadata": {
    "colab": {
     "base_uri": "https://localhost:8080/",
     "height": 264
    },
    "id": "PUfby6DlRoXW",
    "outputId": "2dd5d6ea-1c9b-4f6e-e7ce-550d6fcef775",
    "ExecuteTime": {
     "end_time": "2024-05-10T05:10:38.318819Z",
     "start_time": "2024-05-10T05:10:38.135603Z"
    }
   },
   "source": [
    "# Plot \n",
    "figure = plt.figure()\n",
    "num_of_images = 9\n",
    "for index in range(num_of_images):\n",
    "    plt.subplot(3, 3, index+1)\n",
    "    plt.axis('off')\n",
    "    plt.title(\"Predicted: {}\".format(predicted[index].item()))\n",
    "    plt.imshow(images[index].cpu().numpy().squeeze(), cmap='gray_r')"
   ],
   "outputs": [
    {
     "data": {
      "text/plain": [
       "<Figure size 640x480 with 9 Axes>"
      ],
      "image/png": "[encoded data removed]"
     },
     "metadata": {},
     "output_type": "display_data"
    }
   ],
   "execution_count": 77
  },
  {
   "cell_type": "markdown",
   "metadata": {
    "id": "s1Y-krgJinAp"
   },
   "source": [
    "### Saving Models\n",
    "(Option 1) Save Model with Shapes\n",
    "* save the structure of this class together with the model"
   ]
  },
  {
   "cell_type": "code",
   "metadata": {
    "colab": {
     "base_uri": "https://localhost:8080/"
    },
    "id": "_f9tXsz9KxDx",
    "outputId": "a4319e72-c21c-4a3f-9600-fa08c662fa09",
    "ExecuteTime": {
     "end_time": "2024-05-10T04:13:58.738127Z",
     "start_time": "2024-05-10T04:13:58.729127Z"
    }
   },
   "source": [
    "torch.save(model,\"MNIST_model.pth\")"
   ],
   "outputs": [],
   "execution_count": 35
  },
  {
   "cell_type": "markdown",
   "metadata": {
    "id": "a-K0cBwkK1OI"
   },
   "source": [
    "(Option 2) Save Model Weight as  state dictionary"
   ]
  },
  {
   "cell_type": "code",
   "metadata": {
    "id": "69luqmxDgkqK",
    "ExecuteTime": {
     "end_time": "2024-05-10T04:14:01.517836Z",
     "start_time": "2024-05-10T04:14:01.504301Z"
    }
   },
   "source": [
    "torch.save(model.state_dict(), \"MNIST_model2.pth\")\n",
    "print(\"Saved PyTorch Model State\")"
   ],
   "outputs": [
    {
     "name": "stdout",
     "output_type": "stream",
     "text": [
      "Saved PyTorch Model State\n"
     ]
    }
   ],
   "execution_count": 36
  },
  {
   "cell_type": "markdown",
   "metadata": {},
   "source": [
    "### Load the pretrained model\n",
    "\n",
    "(Option 1) Loading a model with structures "
   ]
  },
  {
   "cell_type": "code",
   "metadata": {
    "ExecuteTime": {
     "end_time": "2024-05-10T04:11:54.622642Z",
     "start_time": "2024-05-10T04:11:54.607560Z"
    }
   },
   "source": [
    "model = torch.load(\"MNIST_model.pth\")\n",
    "model.eval()"
   ],
   "outputs": [
    {
     "data": {
      "text/plain": [
       "MLP(\n",
       "  (flatten): Flatten(start_dim=1, end_dim=-1)\n",
       "  (linear1): Linear(in_features=784, out_features=250, bias=True)\n",
       "  (linear2): Linear(in_features=250, out_features=100, bias=True)\n",
       "  (linear3): Linear(in_features=100, out_features=10, bias=True)\n",
       ")"
      ]
     },
     "execution_count": 22,
     "metadata": {},
     "output_type": "execute_result"
    }
   ],
   "execution_count": 22
  },
  {
   "cell_type": "markdown",
   "metadata": {},
   "source": [
    "(Option 2) Loading a model includes re-creating the model structure and loading the state dictionary into it.\n",
    "\n",
    "* Need to `import` or define the Network Structure"
   ]
  },
  {
   "cell_type": "code",
   "metadata": {
    "ExecuteTime": {
     "end_time": "2024-05-10T04:21:12.830237Z",
     "start_time": "2024-05-10T04:21:12.817240Z"
    }
   },
   "source": [
    "class MLP(nn.Module):\n",
    "    def __init__(self):\n",
    "        super(MLP, self).__init__()\n",
    "        self.flatten = nn.Flatten()\n",
    "        self.linear1 = nn.Linear(28*28, 250)\n",
    "        self.linear2 = nn.Linear(250, 100)\n",
    "        self.linear3 = nn.Linear(100, 10)\n",
    "\n",
    "        \n",
    "    def forward(self, x):\n",
    "        x=self.flatten(x)\n",
    "        x = F.relu(self.linear1(x))\n",
    "        x = F.relu(self.linear2(x))\n",
    "        y_pred = F.softmax(self.linear3(x))\n",
    "        return y_pred"
   ],
   "outputs": [],
   "execution_count": 46
  },
  {
   "cell_type": "code",
   "metadata": {
    "ExecuteTime": {
     "end_time": "2024-05-10T04:19:06.894664Z",
     "start_time": "2024-05-10T04:19:06.869665Z"
    }
   },
   "source": [
    "model2 = MLP().to(device)\n",
    "print(model2)\n",
    "model2.load_state_dict(torch.load('MNIST_model2.pth'))\n",
    "model2.eval()"
   ],
   "outputs": [
    {
     "name": "stdout",
     "output_type": "stream",
     "text": [
      "MLP(\n",
      "  (flatten): Flatten(start_dim=1, end_dim=-1)\n",
      "  (linear1): Linear(in_features=784, out_features=250, bias=True)\n",
      "  (linear2): Linear(in_features=250, out_features=100, bias=True)\n",
      "  (linear3): Linear(in_features=100, out_features=10, bias=True)\n",
      ")\n"
     ]
    },
    {
     "data": {
      "text/plain": [
       "MLP(\n",
       "  (flatten): Flatten(start_dim=1, end_dim=-1)\n",
       "  (linear1): Linear(in_features=784, out_features=250, bias=True)\n",
       "  (linear2): Linear(in_features=250, out_features=100, bias=True)\n",
       "  (linear3): Linear(in_features=100, out_features=10, bias=True)\n",
       ")"
      ]
     },
     "execution_count": 44,
     "metadata": {},
     "output_type": "execute_result"
    }
   ],
   "execution_count": 44
  },
  {
   "cell_type": "markdown",
   "metadata": {},
   "source": [
    "### Test \n",
    "Print test data accuracy "
   ]
  },
  {
   "cell_type": "code",
   "metadata": {
    "ExecuteTime": {
     "end_time": "2024-05-10T04:47:46.230884Z",
     "start_time": "2024-05-10T04:47:45.100157Z"
    }
   },
   "source": [
    "test(test_dataloader, model, loss_fn)"
   ],
   "outputs": [
    {
     "name": "stderr",
     "output_type": "stream",
     "text": [
      "C:\\Windows\\Temp\\ipykernel_21940\\769595406.py:15: UserWarning: Implicit dimension choice for log_softmax has been deprecated. Change the call to include dim=X as an argument.\n",
      "  y_pred = F.log_softmax(self.linear3(x))\n"
     ]
    },
    {
     "name": "stdout",
     "output_type": "stream",
     "text": [
      "Test Error: \n",
      " Accuracy: 87.1%, Avg loss: 0.499029 \n",
      "\n"
     ]
    }
   ],
   "execution_count": 55
  },
  {
   "cell_type": "markdown",
   "metadata": {},
   "source": [
    "### Visualize test results\n",
    "\n",
    "Select random test images and evaluate"
   ]
  },
  {
   "cell_type": "code",
   "metadata": {
    "ExecuteTime": {
     "end_time": "2024-05-10T04:47:48.629085Z",
     "start_time": "2024-05-10T04:47:48.615082Z"
    }
   },
   "source": [
    "# Get some random test  images // BatchSize at a time\n",
    "dataiter = iter(test_dataloader)\n",
    "images, labels = next(dataiter)\n",
    "print(images.size())\n",
    "\n",
    "# Evaluate mode\n",
    "# Prediction of some sample images \n",
    "images, labels = images.to(device), labels.to(device)\n",
    "with torch.no_grad():\n",
    "    pred = model(images)\n",
    "    _, predicted = torch.max(pred.data, 1)"
   ],
   "outputs": [
    {
     "name": "stdout",
     "output_type": "stream",
     "text": [
      "torch.Size([64, 1, 28, 28])\n"
     ]
    },
    {
     "name": "stderr",
     "output_type": "stream",
     "text": [
      "C:\\Windows\\Temp\\ipykernel_21940\\769595406.py:15: UserWarning: Implicit dimension choice for log_softmax has been deprecated. Change the call to include dim=X as an argument.\n",
      "  y_pred = F.log_softmax(self.linear3(x))\n"
     ]
    }
   ],
   "execution_count": 56
  },
  {
   "cell_type": "markdown",
   "metadata": {},
   "source": [
    "Plot some test image results"
   ]
  },
  {
   "cell_type": "code",
   "metadata": {
    "ExecuteTime": {
     "end_time": "2024-05-10T04:47:52.170468Z",
     "start_time": "2024-05-10T04:47:51.975429Z"
    }
   },
   "source": [
    "figure = plt.figure()\n",
    "num_of_images = 9\n",
    "for index in range(num_of_images):\n",
    "    plt.subplot(3, 3, index+1)\n",
    "    plt.axis('off')    \n",
    "    plt.title(\"Predicted: {}\".format(predicted[index].item()))\n",
    "    plt.imshow(images[index].cpu().numpy().squeeze(), cmap='gray_r')"
   ],
   "outputs": [
    {
     "data": {
      "text/plain": [
       "<Figure size 640x480 with 9 Axes>"
      ],
      "image/png": "[encoded data removed]"
     },
     "metadata": {},
     "output_type": "display_data"
    }
   ],
   "execution_count": 57
  },
  {
   "cell_type": "markdown",
   "metadata": {
    "id": "dBdmu3Z4K3LZ"
   },
   "source": [
    "\n",
    "\n",
    "---\n",
    "\n"
   ]
  },
  {
   "cell_type": "markdown",
   "metadata": {
    "id": "xi-1ht0d-SbX"
   },
   "source": [
    "# Exercise"
   ]
  },
  {
   "cell_type": "markdown",
   "metadata": {
    "id": "_irKEtZP9bmB"
   },
   "source": [
    "\n",
    "## Exercise 1\n",
    "Change, activation functions and optimization types for a better output."
   ]
  },
  {
   "cell_type": "markdown",
   "metadata": {
    "id": "qSVSgxzq-GbI"
   },
   "source": [
    "## Exercise 2\n",
    "Rewrite  the above MLP model as the following.\n",
    "\n",
    "![](https://raw.githubusercontent.com/dmlc/web-data/master/mxnet/image/mlp_mnist.png)"
   ]
  }
 ],
 "metadata": {
  "colab": {
   "name": "Tutorial_PyTorch_MNIST_MLP_Part1_Train.ipynb",
   "provenance": []
  },
  "kernelspec": {
   "display_name": "Python 3 (ipykernel)",
   "language": "python",
   "name": "python3"
  },
  "language_info": {
   "codemirror_mode": {
    "name": "ipython",
    "version": 3
   },
   "file_extension": ".py",
   "mimetype": "text/x-python",
   "name": "python",
   "nbconvert_exporter": "python",
   "pygments_lexer": "ipython3",
   "version": "3.9.18"
  }
 },
 "nbformat": 4,
 "nbformat_minor": 0
}
